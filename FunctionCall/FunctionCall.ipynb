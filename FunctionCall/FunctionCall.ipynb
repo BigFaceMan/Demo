{
 "cells": [
  {
   "cell_type": "code",
   "execution_count": 37,
   "metadata": {},
   "outputs": [
    {
     "name": "stdout",
     "output_type": "stream",
     "text": [
      "ChatCompletionMessage(content='', refusal=None, role='assistant', annotations=None, audio=None, function_call=None, tool_calls=[ChatCompletionMessageToolCall(id='call_0_182a32f6-8c90-40ae-9afe-1ef234ff5add', function=Function(arguments='{\"location\":\"北京\"}', name='get_current_weather'), type='function', index=0)])\n"
     ]
    }
   ],
   "source": [
    "\n",
    "from openai import OpenAI\n",
    "\n",
    "client = OpenAI(\n",
    "    api_key=\"sk-5a569575d41b47b0bc9991d59e8fd3ab\",\n",
    "    base_url=\"https://api.deepseek.com\"\n",
    ")\n",
    "\n",
    "# 定义 tools（函数/工具列表）\n",
    "tools = [\n",
    "    {\n",
    "        \"type\": \"function\",\n",
    "        \"function\": {\n",
    "            \"name\": \"get_current_weather\",\n",
    "            \"description\": \"获取给定地点的天气\",\n",
    "            \"parameters\": {\n",
    "                \"type\": \"object\",\n",
    "                \"properties\": {\n",
    "                    \"location\": {\n",
    "                        \"type\": \"string\",\n",
    "                        \"description\": \"城市，比如杭州，北京，上海\",\n",
    "                    }\n",
    "                },\n",
    "                \"required\": [\"location\"],\n",
    "            },\n",
    "        },\n",
    "    }\n",
    "]\n",
    "\n",
    "messages=[\n",
    "    {\"role\": \"system\", \"content\": \"你是一个很有用的 AI\"},\n",
    "    {\"role\": \"user\", \"content\": \"今天北京的天气是什么?\"},\n",
    "]\n",
    "response = client.chat.completions.create(\n",
    "    model=\"deepseek-chat\",\n",
    "    messages=messages,\n",
    "    tools=tools,  # 传入 tools 参数\n",
    "    tool_choice=\"auto\",  # 可选：控制是否强制调用某个工具\n",
    "    stream=False,\n",
    ")\n",
    "\n",
    "print(response.choices[0].message)"
   ]
  },
  {
   "cell_type": "code",
   "execution_count": 52,
   "metadata": {},
   "outputs": [],
   "source": [
    "messages=[\n",
    "    {\"role\": \"system\", \"content\": \"你是一个很有用的 AI\"},\n",
    "    {\"role\": \"user\", \"content\": \"今天北京的天气是什么?\"},\n",
    "]"
   ]
  },
  {
   "cell_type": "code",
   "execution_count": 39,
   "metadata": {},
   "outputs": [],
   "source": [
    "def get_current_weather(location):\n",
    "    # 模拟一个天气查询的结果\n",
    "    weather_data = {\n",
    "        \"location\": location,\n",
    "        \"temperature\": \"25°C\",\n",
    "        \"condition\": \"晴天\"\n",
    "    }\n",
    "    return weather_data"
   ]
  },
  {
   "cell_type": "code",
   "execution_count": 40,
   "metadata": {},
   "outputs": [
    {
     "name": "stdout",
     "output_type": "stream",
     "text": [
      "[ChatCompletionMessageToolCall(id='call_0_182a32f6-8c90-40ae-9afe-1ef234ff5add', function=Function(arguments='{\"location\":\"北京\"}', name='get_current_weather'), type='function', index=0)]\n"
     ]
    }
   ],
   "source": [
    "print(response.choices[0].message.tool_calls)"
   ]
  },
  {
   "cell_type": "code",
   "execution_count": 41,
   "metadata": {},
   "outputs": [
    {
     "name": "stdout",
     "output_type": "stream",
     "text": [
      "get_current_weather {'location': '北京'}\n"
     ]
    }
   ],
   "source": [
    "## 执行function call\n",
    "import json\n",
    "tool_call = response.choices[0].message.tool_calls[0]\n",
    "tool_name = tool_call.function.name\n",
    "tool_args = json.loads(tool_call.function.arguments)\n",
    "print(tool_name, tool_args)"
   ]
  },
  {
   "cell_type": "code",
   "execution_count": 43,
   "metadata": {},
   "outputs": [
    {
     "name": "stdout",
     "output_type": "stream",
     "text": [
      "{'location': '北京', 'temperature': '25°C', 'condition': '晴天'}\n"
     ]
    }
   ],
   "source": [
    "function_call_result = get_current_weather(tool_args[\"location\"])\n",
    "print(function_call_result)"
   ]
  },
  {
   "cell_type": "code",
   "execution_count": 44,
   "metadata": {},
   "outputs": [
    {
     "name": "stdout",
     "output_type": "stream",
     "text": [
      "call_0_182a32f6-8c90-40ae-9afe-1ef234ff5add\n"
     ]
    }
   ],
   "source": [
    "print(tool_call.id)"
   ]
  },
  {
   "cell_type": "code",
   "execution_count": 53,
   "metadata": {},
   "outputs": [],
   "source": [
    "# 将function call的结果给LLM\n",
    "messages.append(response.choices[0].message)\n",
    "messages.append({\n",
    "    \"role\": \"tool\",\n",
    "    \"content\": json.dumps(function_call_result, ensure_ascii=False),\n",
    "    \"tool_call_id\": tool_call.id\n",
    "})"
   ]
  },
  {
   "cell_type": "code",
   "execution_count": 54,
   "metadata": {},
   "outputs": [
    {
     "data": {
      "text/plain": [
       "[{'role': 'system', 'content': '你是一个很有用的 AI'},\n",
       " {'role': 'user', 'content': '今天北京的天气是什么?'},\n",
       " ChatCompletionMessage(content='', refusal=None, role='assistant', annotations=None, audio=None, function_call=None, tool_calls=[ChatCompletionMessageToolCall(id='call_0_182a32f6-8c90-40ae-9afe-1ef234ff5add', function=Function(arguments='{\"location\":\"北京\"}', name='get_current_weather'), type='function', index=0)]),\n",
       " {'role': 'tool',\n",
       "  'content': '{\"location\": \"北京\", \"temperature\": \"25°C\", \"condition\": \"晴天\"}',\n",
       "  'tool_call_id': 'call_0_182a32f6-8c90-40ae-9afe-1ef234ff5add'}]"
      ]
     },
     "execution_count": 54,
     "metadata": {},
     "output_type": "execute_result"
    }
   ],
   "source": [
    "messages"
   ]
  },
  {
   "cell_type": "code",
   "execution_count": 55,
   "metadata": {},
   "outputs": [
    {
     "name": "stdout",
     "output_type": "stream",
     "text": [
      "ChatCompletion(id='dd5d7cc7-5dc3-4cea-8a73-3ae6991f7996', choices=[Choice(finish_reason='stop', index=0, logprobs=None, message=ChatCompletionMessage(content='今天北京的天气是晴天，气温25°C，适合外出活动哦！', refusal=None, role='assistant', annotations=None, audio=None, function_call=None, tool_calls=None))], created=1744898939, model='deepseek-chat', object='chat.completion', service_tier=None, system_fingerprint='fp_3d5141a69a_prod0225', usage=CompletionUsage(completion_tokens=16, prompt_tokens=58, total_tokens=74, completion_tokens_details=None, prompt_tokens_details=PromptTokensDetails(audio_tokens=None, cached_tokens=0), prompt_cache_hit_tokens=0, prompt_cache_miss_tokens=58))\n",
      "今天北京的天气是晴天，气温25°C，适合外出活动哦！\n"
     ]
    },
    {
     "ename": "",
     "evalue": "",
     "output_type": "error",
     "traceback": [
      "\u001b[1;31mThe Kernel crashed while executing code in the current cell or a previous cell. \n",
      "\u001b[1;31mPlease review the code in the cell(s) to identify a possible cause of the failure. \n",
      "\u001b[1;31mClick <a href='https://aka.ms/vscodeJupyterKernelCrash'>here</a> for more info. \n",
      "\u001b[1;31mView Jupyter <a href='command:jupyter.viewOutput'>log</a> for further details."
     ]
    }
   ],
   "source": [
    "# 再次调用LLM\n",
    "res = client.chat.completions.create(\n",
    "    model=\"deepseek-chat\",\n",
    "    messages=messages,\n",
    ")\n",
    "print(res)\n",
    "print(res.choices[0].message.content)"
   ]
  }
 ],
 "metadata": {
  "kernelspec": {
   "display_name": "mcp",
   "language": "python",
   "name": "python3"
  },
  "language_info": {
   "codemirror_mode": {
    "name": "ipython",
    "version": 3
   },
   "file_extension": ".py",
   "mimetype": "text/x-python",
   "name": "python",
   "nbconvert_exporter": "python",
   "pygments_lexer": "ipython3",
   "version": "3.10.16"
  }
 },
 "nbformat": 4,
 "nbformat_minor": 2
}
